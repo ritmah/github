{
  "nbformat": 4,
  "nbformat_minor": 0,
  "metadata": {
    "colab": {
      "name": "Untitled2.ipynb",
      "provenance": [],
      "authorship_tag": "ABX9TyNZfVIdOKv40Rf/E4id+38Q",
      "include_colab_link": true
    },
    "kernelspec": {
      "name": "python3",
      "display_name": "Python 3"
    }
  },
  "cells": [
    {
      "cell_type": "markdown",
      "metadata": {
        "id": "view-in-github",
        "colab_type": "text"
      },
      "source": [
        "<a href=\"https://colab.research.google.com/github/ritmah/github/blob/main/Untitled2.ipynb\" target=\"_parent\"><img src=\"https://colab.research.google.com/assets/colab-badge.svg\" alt=\"Open In Colab\"/></a>"
      ]
    },
    {
      "cell_type": "code",
      "metadata": {
        "colab": {
          "base_uri": "https://localhost:8080/"
        },
        "id": "aH57EJfdmrgw",
        "outputId": "49fac17e-1ce3-4ef1-c150-2b51f3f92d4d"
      },
      "source": [
        "import numpy as np\r\n",
        "from scipy.misc import derivative\r\n",
        "\r\n",
        "r_t = 1\r\n",
        "x = np.linspace(-1, 1, 200)\r\n",
        "\r\n",
        "def first(x):\r\n",
        "  return 2*x**3 + 3*x**2+ + 3*x + 3\r\n",
        "\r\n",
        "def second(first, x, r_t):\r\n",
        "  slope = derivative(first, r_t, dx=1)\r\n",
        "  return r_t - first(r_t)/slope\r\n",
        "\r\n",
        "for i in range(20):\r\n",
        "  print(r_t)\r\n",
        "  r_t= second(first, x, r_t)\r\n",
        "\t\r\n"
      ],
      "execution_count": 1,
      "outputs": [
        {
          "output_type": "stream",
          "text": [
            "1\n",
            "0.3529411764705882\n",
            "-0.22181102973525513\n",
            "-0.8424299435403746\n",
            "-1.1769209657440842\n",
            "-1.235208540209124\n",
            "-1.2503913101395017\n",
            "-1.2546570042617486\n",
            "-1.255878524414885\n",
            "-1.2562301757365684\n",
            "-1.2563315623851714\n",
            "-1.2563608064830076\n",
            "-1.2563692427468187\n",
            "-1.2563716765070174\n",
            "-1.2563723786247605\n",
            "-1.2563725811799709\n",
            "-1.2563726396155386\n",
            "-1.2563726564737394\n",
            "-1.256372661337198\n",
            "-1.2563726627402676\n"
          ],
          "name": "stdout"
        }
      ]
    },
    {
      "cell_type": "markdown",
      "metadata": {
        "id": "VCZ3DejdSTgw"
      },
      "source": [
        "Here the value is decreasing and repeating constantly at _1.256372. Therefore, the cubic equation is obtained at -1.256372"
      ]
    },
    {
      "cell_type": "code",
      "metadata": {
        "colab": {
          "base_uri": "https://localhost:8080/",
          "height": 295
        },
        "id": "SpzrjBXyTA9z",
        "outputId": "e1d94d6a-8186-491d-9084-3b50e14e749a"
      },
      "source": [
        "import matplotlib.pyplot as plt\r\n",
        "import numpy as np\r\n",
        "a = 2\r\n",
        "b = 3\r\n",
        "c = 3\r\n",
        "d = 3\r\n",
        "x = np.linspace(-10,10,200)\r\n",
        "y = a*x**3 + b*x**2 + c*x + d;\r\n",
        "\r\n",
        "# Creating vectors X and Y \r\n",
        "x = np.linspace(-2, 2, 200) \r\n",
        "y = 2*x**3 + 3*x**2 + 3*x + 3;\r\n",
        "plt.xlabel(\"x\")\r\n",
        "plt.ylabel(\"y\")\r\n",
        "plt.title(\"Graph of cubical function\")\r\n",
        "\r\n",
        "# Create the plot \r\n",
        "plt.plot(x, y) \r\n",
        "  \r\n",
        "# Show the plot \r\n",
        "plt.show()"
      ],
      "execution_count": 2,
      "outputs": [
        {
          "output_type": "display_data",
          "data": {
            "image/png": "[encoded data removed]",
            "text/plain": [
              "<Figure size 432x288 with 1 Axes>"
            ]
          },
          "metadata": {
            "tags": [],
            "needs_background": "light"
          }
        }
      ]
    },
    {
      "cell_type": "markdown",
      "metadata": {
        "id": "vQlF69t3TLnj"
      },
      "source": [
        "In the graph we can see that there is straight line in X-axis between -1.5 to 0.5"
      ]
    }
  ]
}